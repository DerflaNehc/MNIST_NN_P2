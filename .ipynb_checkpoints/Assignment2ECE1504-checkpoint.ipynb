{
 "cells": [
  {
   "cell_type": "code",
   "execution_count": 1,
   "metadata": {
    "collapsed": false
   },
   "outputs": [],
   "source": [
    "import tensorflow as tf\n",
    "import numpy as np\n",
    "import matplotlib.pyplot as plt \n",
    "from tensorflow.examples.tutorials.mnist import input_data\n",
    "#For binarizing the labels\n",
    "from sklearn import preprocessing\n",
    "le = preprocessing.LabelEncoder() \n",
    "lb = preprocessing.LabelBinarizer()\n",
    "\n",
    "#importing the Data\n",
    "(X_train, y_train), (X_test, y_test) = tf.keras.datasets.mnist.load_data()\n",
    "X_train = X_train.astype(np.float32).reshape(-1, 28*28) / 255.0\n",
    "X_test = X_test.astype(np.float32).reshape(-1, 28*28) / 255.0\n",
    "y_train = y_train.astype(np.int32)\n",
    "y_test = y_test.astype(np.int32)\n",
    "X_valid, X_train = X_train[:5000], X_train[5000:]\n",
    "y_valid, y_train = y_train[:5000], y_train[5000:]\n",
    "\n",
    "\n",
    "# HELPER FUNCTIONS\n",
    "\n",
    "def shuffle(data, target):\n",
    "    index = np.arange(0, len(data))\n",
    "    np.random.shuffle(index)\n",
    "    shuffled_data = [data[i] for i in index]\n",
    "    shuffled_target = [target[i] for i in index]\n",
    "    return np.asarray(shuffled_data), np.asarray(shuffled_target)\n",
    "\n",
    "#Hyperparameters\n",
    "learning_rate = 0.005\n",
    "batch_size = 20\n",
    "n_epoch = 1000\n",
    "max_no_progress = 20"
   ]
  },
  {
   "cell_type": "code",
   "execution_count": 2,
   "metadata": {
    "collapsed": false
   },
   "outputs": [
    {
     "data": {
      "text/plain": [
       "(2558, 784)"
      ]
     },
     "execution_count": 2,
     "metadata": {},
     "output_type": "execute_result"
    }
   ],
   "source": [
    "X_valid1 = X_valid[y_valid < 5]\n",
    "y_valid1 = y_valid[y_valid < 5]\n",
    "lb.fit(y_valid1)\n",
    "y_valid1_binary = lb.transform(y_valid1)\n",
    "y_valid1_binary.shape\n",
    "X_valid1.shape"
   ]
  },
  {
   "cell_type": "raw",
   "metadata": {},
   "source": []
  },
  {
   "cell_type": "code",
   "execution_count": 7,
   "metadata": {
    "collapsed": false
   },
   "outputs": [],
   "source": [
    "def part1_train(n_epoch,learning_rate,batch_size,no_progress_limit):\n",
    "    tf.reset_default_graph()\n",
    "\n",
    "    n_hidden = 100\n",
    "    X_train1 = X_train[y_train < 5]\n",
    "    y_train1 = y_train[y_train < 5]\n",
    "    lb.fit(y_train1)\n",
    "    y_train1_binary = lb.transform(y_train1)\n",
    "    \n",
    "    m, n = X_train1.shape\n",
    "    \n",
    "    X_valid1 = X_valid[y_valid < 5]\n",
    "    y_valid1 = y_valid[y_valid < 5]\n",
    "    lb.fit(y_valid1)\n",
    "    y_valid1_binary = lb.transform(y_valid1)\n",
    "    \n",
    "    X_test1 = X_test[y_test < 5]\n",
    "    y_test1 = y_test[y_test < 5]\n",
    "    lb.fit(y_test1)\n",
    "    y_test1_binary= lb.transform(y_test1)\n",
    "\n",
    "    #Test Data \n",
    "    x_in = tf.placeholder(tf.float32,[None,n], name=\"dataset_in\")\n",
    "    y_in = tf.placeholder(tf.float32, [None,5], name=\"true_value\")\n",
    "    \n",
    "\n",
    "    #5 layer NN setup\n",
    "    he_init = tf.contrib.layers.variance_scaling_initializer()\n",
    "    hidden1 = tf.layers.dense(x_in, n_hidden, activation=tf.nn.elu, \n",
    "                              kernel_initializer=he_init, name=\"hidden1\")\n",
    "    hidden2 = tf.layers.dense(hidden1, n_hidden, activation=tf.nn.elu,\n",
    "                            kernel_initializer=he_init, name=\"hidden2\")\n",
    "    hidden3 = tf.layers.dense(hidden2, n_hidden, activation=tf.nn.elu,\n",
    "                            kernel_initializer=he_init, name=\"hidden3\")\n",
    "    hidden4 = tf.layers.dense(hidden3, n_hidden, activation=tf.nn.elu,\n",
    "                            kernel_initializer=he_init, name=\"hidden4\")\n",
    "    hidden5 = tf.layers.dense(hidden4, n_hidden, activation=tf.nn.elu,\n",
    "                            kernel_initializer=he_init, name=\"hidden5\")\n",
    "    output = tf.layers.dense(hidden5, 5, activation=tf.nn.softmax,\n",
    "                            kernel_initializer=he_init, name=\"output\")\n",
    "        \n",
    "    \n",
    "    cross_entropy_loss = tf.nn.softmax_cross_entropy_with_logits(logits=output, labels=y_in)\n",
    "    total_loss = tf.reduce_mean(cross_entropy_loss)\n",
    "    #Saver\n",
    "    saver = tf.train.Saver()\n",
    "    \n",
    "    #Train\n",
    "    Adam_optimizer = tf.train.AdamOptimizer(learning_rate).minimize(total_loss)\n",
    "\n",
    "\n",
    "    #Validation and Data Loggers\n",
    "    #_, train_acc_log = tf.metrics.accuracy(labels=y_in, predictions=tf.round(tf.sigmoid(y_pred)))\n",
    "    correct_prediction= tf.equal(tf.argmax(output,1),tf.argmax(y_in,1),name = 'correct_pred')\n",
    "    acc = tf.reduce_mean(tf.cast(correct_prediction,tf.float32),name='acc')\n",
    "    err = 1-acc\n",
    "    \n",
    "    #initialized all vars\n",
    "    init = tf.global_variables_initializer()\n",
    "    extra_update_ops = tf.get_collection(tf.GraphKeys.UPDATE_OPS)\n",
    "    \n",
    "    #run!\n",
    "    with tf.Session() as sess:\n",
    "        max_checks_without_progress = no_progress_limit\n",
    "        checks_without_progress = 0\n",
    "        \n",
    "        #for logging our data\n",
    "        validation_loss = np.zeros(n_epoch)\n",
    "        validation_err = np.zeros(n_epoch)\n",
    "        train_loss_total = np.zeros(n_epoch)\n",
    "        train_err_total = np.zeros(n_epoch)\n",
    "        \n",
    "        best_loss = np.inf\n",
    "        \n",
    "    \n",
    "        sess.run(init)\n",
    "        for epoch in range(n_epoch):\n",
    "            train_loss = 0\n",
    "            train_err = 0\n",
    "            #reshuffles the dataset in unison. for each epoch\n",
    "            X_train1, y_train1_binary = shuffle(X_train1,y_train1_binary)\n",
    "            #batches of batch_size up to total number of datapoints (3500)\n",
    "            for offset in range(0, m, batch_size):\n",
    "                #find the proper dataset\n",
    "                batch_x = X_train1[offset:offset+batch_size]\n",
    "                batch_y = y_train1_binary[offset:offset+batch_size]\n",
    "                #train [total_loss,extra_update_ops], is for batch normalization\n",
    "                sess.run([Adam_optimizer],feed_dict={x_in:batch_x.reshape(-1,n),y_in:batch_y})\n",
    "                #storing our loss per batch\n",
    "                train_loss = train_loss + sess.run(total_loss,feed_dict={x_in:batch_x.reshape(-1,n),y_in:batch_y})\n",
    "                train_err = train_err + sess.run(err,feed_dict={x_in:batch_x.reshape(-1,n),y_in:batch_y})\n",
    "            #calculating the average loss per epoch\n",
    "            train_loss_total[epoch] = train_loss/(m/batch_size)\n",
    "            train_err_total[epoch]=train_err/(m/batch_size)\n",
    "            validation_loss[epoch],validation_err[epoch]= sess.run([total_loss, err],feed_dict={x_in:X_valid1,y_in:y_valid1_binary})\n",
    "            if epoch%100 == 0:\n",
    "                print(epoch)\n",
    "            if (validation_loss[epoch] < best_loss):\n",
    "                save_path = saver.save(sess, \"./model.ckpt\")\n",
    "                step_count = 0\n",
    "                best_loss = validation_loss[epoch]\n",
    "            else:\n",
    "                step_count += 1\n",
    "                if step_count > no_progress_limit:\n",
    "                    print(\"Early stopping epoch:{} at loss:{}\".format(epoch,best_loss))\n",
    "                    train_loss_total = np.array(train_loss_total[0:epoch])\n",
    "                    validation_loss = np.array(validation_loss[0:epoch])\n",
    "                    break\n",
    "            \n",
    "        return train_loss_total, train_err_total, validation_loss, validation_err"
   ]
  },
  {
   "cell_type": "code",
   "execution_count": null,
   "metadata": {
    "collapsed": true
   },
   "outputs": [],
   "source": []
  },
  {
   "cell_type": "code",
   "execution_count": 8,
   "metadata": {
    "collapsed": false
   },
   "outputs": [
    {
     "name": "stdout",
     "output_type": "stream",
     "text": [
      "0\n",
      "Early stopping epoch:21 at loss:1.7066372632980347\n"
     ]
    },
    {
     "data": {
      "image/png": "[encoded data removed]",
      "text/plain": [
       "<matplotlib.figure.Figure at 0x144eacda0>"
      ]
     },
     "metadata": {},
     "output_type": "display_data"
    }
   ],
   "source": [
    "#Hyperparameters\n",
    "learning_rate = 0.005\n",
    "batch_size = 20\n",
    "n_epoch = 1000\n",
    "max_no_progress = 20\n",
    "\n",
    "train_loss, train_err, valid_loss, valid_err = part1_train(n_epoch,learning_rate,batch_size,max_no_progress)\n",
    "\n",
    "import matplotlib.pyplot as p \n",
    "#proving learning rate 0.005. is the best\n",
    "p.plot(train_loss,'b-', label=\"train_0.005\")\n",
    "p.plot(valid_loss,'r-',label =\"validation_0.005\")\n",
    "p.title(\" Loss vs. Epoch\")\n",
    "p.legend(numpoints=1,loc='upper center', bbox_to_anchor=(0.5, -0.05),\n",
    "          fancybox=True, shadow=True, ncol=3)\n",
    "p.show()\n",
    "\n",
    "p.plot(train_err,'b-', label=\"train_err\")\n",
    "p.plot(valid_err,'r-',label =\"valid_err\")\n",
    "p.legend(numpoints = 1,loc='upper center', bbox_to_anchor=(0.5, -0.05),\n",
    "          fancybox=True, shadow=True, ncol=3)\n",
    "p.show()"
   ]
  },
  {
   "cell_type": "code",
   "execution_count": 5,
   "metadata": {
    "collapsed": false
   },
   "outputs": [
    {
     "data": {
      "text/plain": [
       "array([1.79372132, 1.73816574, 1.79372132, 1.79372132, 1.73816574,\n",
       "       1.73816574, 1.51594353, 1.68261015, 1.79372132, 1.57149911,\n",
       "       1.62705469, 1.79372132, 1.57149911, 1.8492769 , 1.79372132,\n",
       "       1.68261015, 1.62705469, 1.57149911, 1.68261015, 1.79372132,\n",
       "       1.68261015])"
      ]
     },
     "execution_count": 5,
     "metadata": {},
     "output_type": "execute_result"
    }
   ],
   "source": [
    "train_loss"
   ]
  },
  {
   "cell_type": "code",
   "execution_count": 6,
   "metadata": {
    "collapsed": false
   },
   "outputs": [
    {
     "data": {
      "text/plain": [
       "array([1.71211004, 1.71211004, 1.71211004, 1.71211004, 1.71211004,\n",
       "       1.71211004, 1.71211004, 1.71211004, 1.71211004, 1.71211004,\n",
       "       1.71211004, 1.71211004, 1.71211004, 1.71211004, 1.71211004,\n",
       "       1.71211004, 1.71211004, 1.71211004, 1.71211004, 1.71211004,\n",
       "       1.71211004])"
      ]
     },
     "execution_count": 6,
     "metadata": {},
     "output_type": "execute_result"
    }
   ],
   "source": [
    "valid_loss"
   ]
  },
  {
   "cell_type": "code",
   "execution_count": null,
   "metadata": {
    "collapsed": true
   },
   "outputs": [],
   "source": []
  }
 ],
 "metadata": {
  "anaconda-cloud": {},
  "kernelspec": {
   "display_name": "Python [default]",
   "language": "python",
   "name": "python3"
  },
  "language_info": {
   "codemirror_mode": {
    "name": "ipython",
    "version": 3
   },
   "file_extension": ".py",
   "mimetype": "text/x-python",
   "name": "python",
   "nbconvert_exporter": "python",
   "pygments_lexer": "ipython3",
   "version": "3.5.2"
  }
 },
 "nbformat": 4,
 "nbformat_minor": 1
}
